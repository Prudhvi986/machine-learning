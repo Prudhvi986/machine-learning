{
 "cells": [
  {
   "cell_type": "code",
   "execution_count": 19,
   "metadata": {},
   "outputs": [],
   "source": [
    "import numpy as np\n",
    "import csv\n",
    "import psycopg2\n",
    "import math\n",
    "import pandas as pd\n",
    "from sklearn.model_selection import train_test_split"
   ]
  },
  {
   "cell_type": "code",
   "execution_count": 20,
   "metadata": {},
   "outputs": [],
   "source": [
    "df = pd.read_csv(\"data1.csv\")"
   ]
  },
  {
   "cell_type": "code",
   "execution_count": 21,
   "metadata": {},
   "outputs": [],
   "source": [
    "def mylinridgereg(X,Y,lamda):\n",
    "    p = (np.asmatrix(np.dot(X.T,X) + lamda*np.eye(len(X[0]))))\n",
    "#     print(p.shape)\n",
    "    p = np.linalg.pinv(p)\n",
    "#     print(p.shape)\n",
    "    q = np.dot(p,X.T)\n",
    "#     print(q.shape)\n",
    "    q = np.dot(q,Y)\n",
    "#     print(Y.shape)\n",
    "#     print(q.shape)\n",
    "    return q\n",
    "    "
   ]
  },
  {
   "cell_type": "code",
   "execution_count": 22,
   "metadata": {},
   "outputs": [],
   "source": [
    "def mylinridgeregeval(X,w):\n",
    "    yi = np.dot(X,w)\n",
    "    return yi"
   ]
  },
  {
   "cell_type": "code",
   "execution_count": 23,
   "metadata": {},
   "outputs": [],
   "source": [
    "def meansquarederr(label_data,y):\n",
    "    err = np.square((label_data) - (y))\n",
    "    \n",
    "#     print (err)\n",
    "    err1 = np.average(err)\n",
    "    return err1"
   ]
  },
  {
   "cell_type": "code",
   "execution_count": 24,
   "metadata": {},
   "outputs": [
    {
     "name": "stdout",
     "output_type": "stream",
     "text": [
      "(4177, 11) (4177, 1)\n"
     ]
    }
   ],
   "source": [
    "input_data = np.asarray(df.drop('x11', axis= 1))\n",
    "label_data = np.asarray(df['x11'])\n",
    "input_data=np.insert(input_data,0,np.ones(input_data.shape[0]),1)\n",
    "\n",
    "label_data = np.reshape(label_data,(-1,1))\n",
    "print (input_data.shape, label_data.shape)"
   ]
  },
  {
   "cell_type": "code",
   "execution_count": 25,
   "metadata": {},
   "outputs": [],
   "source": [
    "features_train, features_test, target_train, target_test = train_test_split(input_data,label_data, test_size = 0.20, random_state = 10)\n"
   ]
  },
  {
   "cell_type": "code",
   "execution_count": 27,
   "metadata": {},
   "outputs": [
    {
     "name": "stdout",
     "output_type": "stream",
     "text": [
      "4.89304400530627\n",
      "4.456931807585605\n",
      "4.895485046709676\n",
      "4.457574924784945\n",
      "4.897940390468044\n",
      "4.458554300263841\n",
      "4.900282575080392\n",
      "4.459668896081544\n",
      "4.902464713500456\n",
      "4.460818410171465\n"
     ]
    }
   ],
   "source": [
    "lamdas = [1,1.5,2,2.5,3]\n",
    "for i in range(len(lamdas)):\n",
    "    w=mylinridgereg(features_train,target_train,lamdas[i])\n",
    "    predicted_train = mylinridgeregeval(features_train,w)\n",
    "    err = meansquarederr(target_train,predicted_train)\n",
    "    print(err)\n",
    "    predicted_test = mylinridgeregeval(features_test,w)\n",
    "    err=meansquarederr(target_test,predicted_test)\n",
    "    print(err)\n",
    "     "
   ]
  },
  {
   "cell_type": "code",
   "execution_count": 9,
   "metadata": {},
   "outputs": [],
   "source": [
    "# w = mylinridgereg(input_data,label_data,2)\n",
    "# yi = mylinridgeregeval(input_data,w)\n",
    "# yi = np.round(yi)\n",
    "\n",
    "\n",
    "# err=meansquarederr(label_data,yi)\n",
    "# print (err)"
   ]
  },
  {
   "cell_type": "code",
   "execution_count": null,
   "metadata": {},
   "outputs": [],
   "source": []
  },
  {
   "cell_type": "code",
   "execution_count": null,
   "metadata": {},
   "outputs": [],
   "source": []
  },
  {
   "cell_type": "code",
   "execution_count": null,
   "metadata": {},
   "outputs": [],
   "source": []
  }
 ],
 "metadata": {
  "kernelspec": {
   "display_name": "Python 3",
   "language": "python",
   "name": "python3"
  },
  "language_info": {
   "codemirror_mode": {
    "name": "ipython",
    "version": 3
   },
   "file_extension": ".py",
   "mimetype": "text/x-python",
   "name": "python",
   "nbconvert_exporter": "python",
   "pygments_lexer": "ipython3",
   "version": "3.6.7"
  }
 },
 "nbformat": 4,
 "nbformat_minor": 2
}
