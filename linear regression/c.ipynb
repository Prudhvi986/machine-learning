{
 "cells": [
  {
   "cell_type": "code",
   "execution_count": 17,
   "metadata": {},
   "outputs": [],
   "source": [
    "import numpy as np\n",
    "import csv\n",
    "import psycopg2\n",
    "import math\n",
    "import pandas as pd"
   ]
  },
  {
   "cell_type": "code",
   "execution_count": 18,
   "metadata": {},
   "outputs": [],
   "source": [
    "df = pd.read_csv(\"data1.csv\")"
   ]
  },
  {
   "cell_type": "code",
   "execution_count": 19,
   "metadata": {},
   "outputs": [],
   "source": [
    "def mylinridgereg(X,Y,lamda):\n",
    "    p = (np.asmatrix(np.dot(X.T,X) + lamda*np.eye(len(X[0]))))\n",
    "#     print(p.shape)\n",
    "    p = np.linalg.pinv(p)\n",
    "#     print(p.shape)\n",
    "    q = np.dot(p,X.T)\n",
    "#     print(q.shape)\n",
    "    q = np.dot(q,Y)\n",
    "#     print(Y.shape)\n",
    "#     print(q.shape)\n",
    "    return q"
   ]
  },
  {
   "cell_type": "code",
   "execution_count": 20,
   "metadata": {},
   "outputs": [],
   "source": [
    "def mylinridgeregeval(X,w):\n",
    "    yi = np.dot(X,w)\n",
    "    return yi"
   ]
  },
  {
   "cell_type": "code",
   "execution_count": 21,
   "metadata": {},
   "outputs": [],
   "source": [
    "def meansquarederr(label_data,y):\n",
    "    err = np.square((label_data) - (y))\n",
    "    \n",
    "#     print (err)\n",
    "    err1 = np.average(err)\n",
    "    return err1"
   ]
  },
  {
   "cell_type": "code",
   "execution_count": 22,
   "metadata": {},
   "outputs": [
    {
     "name": "stdout",
     "output_type": "stream",
     "text": [
      "(4177, 11) (4177, 1)\n"
     ]
    }
   ],
   "source": [
    "input_data = np.asarray(df.drop('x11', axis= 1))\n",
    "label_data = np.asarray(df['x11'])\n",
    "input_data=np.insert(input_data,0,np.ones(input_data.shape[0]),1)\n",
    "\n",
    "label_data = np.reshape(label_data,(-1,1))\n",
    "print (input_data.shape, label_data.shape)"
   ]
  },
  {
   "cell_type": "code",
   "execution_count": 23,
   "metadata": {},
   "outputs": [
    {
     "name": "stdout",
     "output_type": "stream",
     "text": [
      "4.8731146756045005\n"
     ]
    }
   ],
   "source": [
    "w = mylinridgereg(input_data,label_data,2)\n",
    "yi = mylinridgeregeval(input_data,w)\n",
    "yi = np.round(yi)\n",
    "\n",
    "err=meansquarederr(label_data,yi)\n",
    "print (err)"
   ]
  },
  {
   "cell_type": "code",
   "execution_count": null,
   "metadata": {},
   "outputs": [],
   "source": []
  },
  {
   "cell_type": "code",
   "execution_count": null,
   "metadata": {},
   "outputs": [],
   "source": []
  },
  {
   "cell_type": "code",
   "execution_count": null,
   "metadata": {},
   "outputs": [],
   "source": []
  }
 ],
 "metadata": {
  "kernelspec": {
   "display_name": "Python 3",
   "language": "python",
   "name": "python3"
  },
  "language_info": {
   "codemirror_mode": {
    "name": "ipython",
    "version": 3
   },
   "file_extension": ".py",
   "mimetype": "text/x-python",
   "name": "python",
   "nbconvert_exporter": "python",
   "pygments_lexer": "ipython3",
   "version": "3.6.7"
  }
 },
 "nbformat": 4,
 "nbformat_minor": 2
}
