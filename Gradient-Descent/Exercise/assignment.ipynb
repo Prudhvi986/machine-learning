{
 "cells": [
  {
   "cell_type": "code",
   "execution_count": null,
   "id": "a8a025c0",
   "metadata": {},
   "outputs": [],
   "source": [
    "import pandas as pd\n",
    "import numpy as np\n",
    "import matplotlib.pyplot as plt\n",
    "from sklearn import linear_model\n",
    "import math"
   ]
  },
  {
   "cell_type": "code",
   "execution_count": null,
   "id": "6287153a",
   "metadata": {},
   "outputs": [],
   "source": [
    "df = pd.read_csv(\"test_scores.csv\")\n",
    "df\n"
   ]
  },
  {
   "cell_type": "code",
   "execution_count": null,
   "id": "31f3d7d8",
   "metadata": {},
   "outputs": [],
   "source": [
    "df.drop(columns=['name'],inplace=True)\n",
    "df"
   ]
  },
  {
   "cell_type": "code",
   "execution_count": null,
   "id": "7dc8f424",
   "metadata": {},
   "outputs": [],
   "source": [
    "x = df.math.values\n",
    "y = df.cs.values\n",
    "x.shape\n",
    "x,y"
   ]
  },
  {
   "cell_type": "code",
   "execution_count": null,
   "id": "9eaa10e5",
   "metadata": {},
   "outputs": [],
   "source": [
    "def gradientDescent(x,y,alpha):\n",
    "    m_curr = b_curr = 0\n",
    "    iterations=1000000\n",
    "    n = len(x)\n",
    "    cost_prev = 0\n",
    "    for i in range(iterations):\n",
    "        y_predicted = m_curr*x + b_curr\n",
    "        # plotting the current version\n",
    "#         plt.plot(x,y_predicted)\n",
    "        \n",
    "        cost  = 1/n*sum([val**2 for val in y-y_predicted])\n",
    "        print (\"m {}, b {}, cost {}, iteration {}\".format(m_curr,b_curr,cost, i))\n",
    "        \n",
    "        if(math.isclose(cost,cost_prev,rel_tol=1e-20)):\n",
    "            break;\n",
    "        cost_prev = cost\n",
    "                         \n",
    "        delta_m = -(2/n)*sum(x*(y-y_predicted))\n",
    "        delta_b = -(2/n)*sum((y-y_predicted))\n",
    "        m_curr -= alpha * delta_m\n",
    "        b_curr -= alpha * delta_b"
   ]
  },
  {
   "cell_type": "code",
   "execution_count": null,
   "id": "b98d86d8",
   "metadata": {},
   "outputs": [],
   "source": [
    "gradientDescent(x,y,0.0001)"
   ]
  },
  {
   "cell_type": "code",
   "execution_count": null,
   "id": "52b41159",
   "metadata": {},
   "outputs": [],
   "source": [
    "gradientDescent(x,y,0.0002)"
   ]
  },
  {
   "cell_type": "code",
   "execution_count": null,
   "id": "2faccc11",
   "metadata": {},
   "outputs": [],
   "source": [
    "gradientDescent(x,y,0.0003)"
   ]
  },
  {
   "cell_type": "code",
   "execution_count": null,
   "id": "7844a288",
   "metadata": {},
   "outputs": [],
   "source": [
    "x = x.reshape(-1,1)\n",
    "x.shape\n",
    "reg = linear_model.LinearRegression()\n",
    "reg.fit(x,y)"
   ]
  },
  {
   "cell_type": "code",
   "execution_count": null,
   "id": "33f968dc",
   "metadata": {},
   "outputs": [],
   "source": [
    "reg.score(x,y)"
   ]
  },
  {
   "cell_type": "code",
   "execution_count": null,
   "id": "d992383e",
   "metadata": {},
   "outputs": [],
   "source": [
    "reg.coef_"
   ]
  },
  {
   "cell_type": "code",
   "execution_count": null,
   "id": "837e4e8c",
   "metadata": {},
   "outputs": [],
   "source": [
    "reg.intercept_"
   ]
  },
  {
   "cell_type": "markdown",
   "id": "5c7714ec",
   "metadata": {},
   "source": [
    "Here, it is observed that learning rate plays important role while training a model.\n",
    "when alpha =0.001 it converged to min error at iteration 793646\n",
    "when alpha =0.002 at iteration 415533\n",
    "when  alpha =0.003 m and ba values are not even converging. \n",
    "So should be careful while choosing alpha, learning rate."
   ]
  },
  {
   "cell_type": "code",
   "execution_count": null,
   "id": "1656b9e2",
   "metadata": {},
   "outputs": [],
   "source": []
  }
 ],
 "metadata": {
  "kernelspec": {
   "display_name": "Python 3",
   "language": "python",
   "name": "python3"
  },
  "language_info": {
   "codemirror_mode": {
    "name": "ipython",
    "version": 3
   },
   "file_extension": ".py",
   "mimetype": "text/x-python",
   "name": "python",
   "nbconvert_exporter": "python",
   "pygments_lexer": "ipython3",
   "version": "3.8.5"
  }
 },
 "nbformat": 4,
 "nbformat_minor": 5
}
